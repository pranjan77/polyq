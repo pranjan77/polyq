{
 "cells": [
  {
   "cell_type": "code",
   "execution_count": 16,
   "metadata": {
    "collapsed": false
   },
   "outputs": [
    {
     "name": "stdout",
     "output_type": "stream",
     "text": [
      "6\t491\n",
      "3\t4692\n",
      "7\t281\n",
      "9\t108\n",
      "2\t31148\n",
      "8\t177\n",
      "4\t1639\n",
      "10\t80\n",
      "5\t834\n"
     ]
    }
   ],
   "source": [
    "%%perl\n",
    "\n",
    "use strict;\n",
    "my $file = \"/files/www/polyq/Ptrichocarpa_210_protein.fa\";\n",
    "my %hash = ();\n",
    "open (FILE, $file) or die (\"Could not open file $file\");\n",
    "\n",
    "my $id;\n",
    "while (<FILE>){\n",
    "\n",
    "  if ($_=~/>/){\n",
    "   $id=$_;\n",
    "   $id=~s/.PAC.*//;\n",
    "   next;\n",
    "  }\n",
    "$_=~s/\\s*$//;\n",
    "$hash{$id} .=$_;\n",
    "\n",
    "#print $id . \"\\n\";\n",
    "}\n",
    "\n",
    "my %hashval;\n",
    "\n",
    "while (my ($key, $val) = each (%hash)){\n",
    "  \n",
    " # next if ($key !~/\\.1$/);\n",
    "  if ($val=~/QQQQQQQQQQ/){\n",
    "    $hashval{10}++;\n",
    "    #next;\n",
    "  }\n",
    "\n",
    "if ($val=~/QQQQQQQQQ/){\n",
    "    $hashval{9}++;\n",
    "    #next;\n",
    "  }\n",
    "\n",
    "if ($val=~/QQQQQQQQ/){\n",
    "    $hashval{8}++;\n",
    "    #next;\n",
    "  }\n",
    "if ($val=~/QQQQQQQ/){\n",
    "    $hashval{7}++;\n",
    "    #next;\n",
    "  }\n",
    "\n",
    "if ($val=~/QQQQQQ/){\n",
    "    $hashval{6}++;\n",
    "    #next;\n",
    "  }\n",
    "\n",
    "if ($val=~/QQQQQ/){\n",
    "    $hashval{5}++;\n",
    "    #next;\n",
    "  }\n",
    "\n",
    "if ($val=~/QQQQ/){\n",
    "    $hashval{4}++;\n",
    "    #next;\n",
    "  }\n",
    "\n",
    "if ($val=~/QQQ/){\n",
    "    $hashval{3}++;\n",
    "    #next;\n",
    "  }\n",
    "\n",
    "if ($val=~/QQ/){\n",
    "    $hashval{2}++;\n",
    "    #next;\n",
    "  }\n",
    "\n",
    "}\n",
    "\n",
    "open (FILEZ, \">q2-q10.txt\") or die (\"nnp\");\n",
    "  print FILEZ \"Qlength\\tval\\n\";\n",
    "\n",
    "while (my ($key,$val) = each (%hashval)){\n",
    "\n",
    "print \"$key\\t$val\\n\";\n",
    "\n",
    "  print FILEZ \"$key\\t$val\\n\";\n",
    "\n",
    "}\n",
    "\n",
    "close (FILEZ);"
   ]
  },
  {
   "cell_type": "code",
   "execution_count": 18,
   "metadata": {
    "collapsed": false
   },
   "outputs": [
    {
     "name": "stdout",
     "output_type": "stream",
     "text": [
      "The rmagic extension is already loaded. To reload it, use:\n",
      "  %reload_ext rmagic\n"
     ]
    }
   ],
   "source": [
    "%load_ext rmagic\n"
   ]
  },
  {
   "cell_type": "code",
   "execution_count": 4,
   "metadata": {
    "collapsed": false
   },
   "outputs": [
    {
     "name": "stderr",
     "output_type": "stream",
     "text": [
      "/usr/local/lib/python2.7/dist-packages/IPython/extensions/rmagic.py:693: UserWarning: The rmagic extension in IPython is deprecated in favour of rpy2.ipython. If available, that will be loaded instead.\n",
      "http://rpy.sourceforge.net/\n",
      "  warnings.warn(\"The rmagic extension in IPython is deprecated in favour of \"\n"
     ]
    }
   ],
   "source": [
    "%load_ext rmagic"
   ]
  },
  {
   "cell_type": "code",
   "execution_count": 19,
   "metadata": {
    "collapsed": false
   },
   "outputs": [
    {
     "name": "stdout",
     "output_type": "stream",
     "text": [
      "Error in plot.window(...) : need finite 'xlim' values\n",
      "In addition: Warning messages:\n",
      "1: In min(x) : no non-missing arguments to min; returning Inf\n",
      "2: In max(x) : no non-missing arguments to max; returning -Inf\n",
      "3: In min(x) : no non-missing arguments to min; returning Inf\n",
      "4: In max(x) : no non-missing arguments to max; returning -Inf\n",
      "Error in plot.window(...) : need finite 'xlim' values\n"
     ]
    }
   ],
   "source": [
    "%%R\n",
    "x=read.table(\"q2-q10.txt\")\n",
    "plot(x$Qlength, x$val)"
   ]
  },
  {
   "cell_type": "code",
   "execution_count": 6,
   "metadata": {
    "collapsed": false
   },
   "outputs": [
    {
     "ename": "NameError",
     "evalue": "name 'x' is not defined",
     "output_type": "error",
     "traceback": [
      "\u001b[1;31m---------------------------------------------------------------------------\u001b[0m",
      "\u001b[1;31mNameError\u001b[0m                                 Traceback (most recent call last)",
      "\u001b[1;32m<ipython-input-6-98e225784849>\u001b[0m in \u001b[0;36m<module>\u001b[1;34m()\u001b[0m\n\u001b[1;32m----> 1\u001b[1;33m \u001b[0mx\u001b[0m\u001b[1;33m[\u001b[0m\u001b[1;36m1\u001b[0m\u001b[1;33m]\u001b[0m\u001b[1;33m\u001b[0m\u001b[0m\n\u001b[0m",
      "\u001b[1;31mNameError\u001b[0m: name 'x' is not defined"
     ]
    }
   ],
   "source": [
    "x[1]"
   ]
  },
  {
   "cell_type": "code",
   "execution_count": 15,
   "metadata": {
    "collapsed": false
   },
   "outputs": [
    {
     "data": {
      "text/plain": [
       "      V2\n",
       "1    val\n",
       "2    491\n",
       "3   4692\n",
       "4    281\n",
       "5    108\n",
       "6  31148\n",
       "7    177\n",
       "8   1639\n",
       "9     80\n",
       "10   834\n"
      ]
     },
     "metadata": {},
     "output_type": "display_data"
    },
    {
     "data": {
      "image/png": "[encoded data removed]"
     },
     "metadata": {},
     "output_type": "display_data"
    }
   ],
   "source": [
    "%%R\n",
    "x=read.table(\"q2-q10.txt\")\n",
    "plot(x[1],x$val)\n",
    "x[2]"
   ]
  },
  {
   "cell_type": "code",
   "execution_count": null,
   "metadata": {
    "collapsed": true
   },
   "outputs": [],
   "source": []
  }
 ],
 "metadata": {
  "kernelspec": {
   "display_name": "Python 2",
   "language": "python",
   "name": "python2"
  },
  "language_info": {
   "codemirror_mode": {
    "name": "ipython",
    "version": 2
   },
   "file_extension": ".py",
   "mimetype": "text/x-python",
   "name": "python",
   "nbconvert_exporter": "python",
   "pygments_lexer": "ipython2",
   "version": "2.7.3"
  }
 },
 "nbformat": 4,
 "nbformat_minor": 0
}
